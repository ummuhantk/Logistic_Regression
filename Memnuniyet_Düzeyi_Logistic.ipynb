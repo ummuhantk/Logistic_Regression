{
  "nbformat": 4,
  "nbformat_minor": 0,
  "metadata": {
    "colab": {
      "provenance": [],
      "authorship_tag": "ABX9TyNdGY9myMQb64cvnJqvPbjG",
      "include_colab_link": true
    },
    "kernelspec": {
      "name": "python3",
      "display_name": "Python 3"
    },
    "language_info": {
      "name": "python"
    }
  },
  "cells": [
    {
      "cell_type": "markdown",
      "metadata": {
        "id": "view-in-github",
        "colab_type": "text"
      },
      "source": [
        "<a href=\"https://colab.research.google.com/github/ummuhantk/Logistic_Regression/blob/main/Memnuniyet_D%C3%BCzeyi_Logistic.ipynb\" target=\"_parent\"><img src=\"https://colab.research.google.com/assets/colab-badge.svg\" alt=\"Open In Colab\"/></a>"
      ]
    },
    {
      "cell_type": "code",
      "source": [
        "import pandas as pd\n",
        "import numpy as np\n",
        "import matplotlib.pyplot as plt\n",
        "import seaborn as sns\n",
        "from sklearn.model_selection import train_test_split\n",
        "from sklearn.linear_model import LogisticRegression\n",
        "from sklearn.metrics import classification_report, confusion_matrix\n",
        "\n",
        "# CSV dosyasını oluşturma\n",
        "data = \"\"\"Yil,Yas,Cinsiyet,Memnuniyet,Yuzde\n",
        "2018,18-24,Kadin,Memnun,73.79\n",
        "2019,18-24,Kadin,Memnun,66.73\n",
        "2020,18-24,Kadin,Memnun,80.35\n",
        "2021,18-24,Kadin,Memnun,72.63\n",
        "2022,18-24,Kadin,Memnun,82.16\n",
        "2023,18-24,Kadin,Memnun,74.42\n",
        "2018,18-24,Kadin,NeMemnunNeMemnunDegil,11.94\n",
        "2019,18-24,Kadin,NeMemnunNeMemnunDegil,21.29\n",
        "2020,18-24,Kadin,NeMemnunNeMemnunDegil,10.56\n",
        "2021,18-24,Kadin,NeMemnunNeMemnunDegil,13.84\n",
        "2022,18-24,Kadin,NeMemnunNeMemnunDegil,12.00\n",
        "2023,18-24,Kadin,NeMemnunNeMemnunDegil,14.81\n",
        "2018,18-24,Kadin,MemnunDegil,14.27\n",
        "2019,18-24,Kadin,MemnunDegil,11.97\n",
        "2020,18-24,Kadin,MemnunDegil,9.09\n",
        "2021,18-24,Kadin,MemnunDegil,13.52\n",
        "2022,18-24,Kadin,MemnunDegil,5.84\n",
        "2023,18-24,Kadin,MemnunDegil,10.77\n",
        "2018,25+,Kadin,Memnun,82.36\n",
        "2019,25+,Kadin,Memnun,77.95\n",
        "2020,25+,Kadin,Memnun,81.59\n",
        "2021,25+,Kadin,Memnun,79.94\n",
        "2022,25+,Kadin,Memnun,79.91\n",
        "2023,25+,Kadin,Memnun,81.97\n",
        "2018,25+,Kadin,NeMemnunNeMemnunDegil,11.10\n",
        "2019,25+,Kadin,NeMemnunNeMemnunDegil,12.50\n",
        "2020,25+,Kadin,NeMemnunNeMemnunDegil,10.79\n",
        "2021,25+,Kadin,NeMemnunNeMemnunDegil,12.46\n",
        "2022,25+,Kadin,NeMemnunNeMemnunDegil,11.98\n",
        "2023,25+,Kadin,NeMemnunNeMemnunDegil,11.34\n",
        "2018,25+,Kadin,MemnunDegil,6.53\n",
        "2019,25+,Kadin,MemnunDegil,9.55\n",
        "2020,25+,Kadin,MemnunDegil,7.62\n",
        "2021,25+,Kadin,MemnunDegil,7.60\n",
        "2022,25+,Kadin,MemnunDegil,8.11\n",
        "2023,25+,Kadin,MemnunDegil,6.69\n",
        "2018,18-24,Erkek,Memnun,77.15\n",
        "2019,18-24,Erkek,Memnun,76.15\n",
        "2020,18-24,Erkek,Memnun,75.86\n",
        "2021,18-24,Erkek,Memnun,77.69\n",
        "2022,18-24,Erkek,Memnun,82.50\n",
        "2023,18-24,Erkek,Memnun,75.56\n",
        "2018,18-24,Erkek,NeMemnunNeMemnunDegil,11.59\n",
        "2019,18-24,Erkek,NeMemnunNeMemnunDegil,13.54\n",
        "2020,18-24,Erkek,NeMemnunNeMemnunDegil,13.00\n",
        "2021,18-24,Erkek,NeMemnunNeMemnunDegil,6.88\n",
        "2022,18-24,Erkek,NeMemnunNeMemnunDegil,9.47\n",
        "2023,18-24,Erkek,NeMemnunNeMemnunDegil,15.67\n",
        "2018,18-24,Erkek,MemnunDegil,11.26\n",
        "2019,18-24,Erkek,MemnunDegil,10.31\n",
        "2020,18-24,Erkek,MemnunDegil,11.14\n",
        "2021,18-24,Erkek,MemnunDegil,15.43\n",
        "2022,18-24,Erkek,MemnunDegil,8.03\n",
        "2023,18-24,Erkek,MemnunDegil,8.77\n",
        "2018,25+,Erkek,Memnun,80.5\n",
        "2019,25+,Erkek,Memnun,79.2\n",
        "2020,25+,Erkek,Memnun,81.6\n",
        "2021,25+,Erkek,Memnun,77.9\n",
        "2022,25+,Erkek,Memnun,80.7\n",
        "2023,25+,Erkek,Memnun,80.2\n",
        "2018,25+,Erkek,NeMemnunNeMemnunDegil,9.0\n",
        "2019,25+,Erkek,NeMemnunNeMemnunDegil,10.9\n",
        "2020,25+,Erkek,NeMemnunNeMemnunDegil,9.3\n",
        "2021,25+,Erkek,NeMemnunNeMemnunDegil,12.2\n",
        "2022,25+,Erkek,NeMemnunNeMemnunDegil,11.4\n",
        "2023,25+,Erkek,NeMemnunNeMemnunDegil,12.1\n",
        "2018,25+,Erkek,MemnunDegil,10.5\n",
        "2019,25+,Erkek,MemnunDegil,9.9\n",
        "2020,25+,Erkek,MemnunDegil,9.2\n",
        "2021,25+,Erkek,MemnunDegil,9.9\n",
        "2022,25+,Erkek,MemnunDegil,7.9\n",
        "2023,25+,Erkek,MemnunDegil,7.7\"\"\"\n",
        "\n",
        "# CSV dosyasını kaydetme\n",
        "with open('data.csv', 'w') as file:\n",
        "    file.write(data)\n",
        "\n",
        "# CSV dosyasını okuma\n",
        "df = pd.read_csv('data.csv')\n",
        "\n",
        "# 2. Verileri temizleme ve düzenleme\n",
        "df['Yas'] = df['Yas'].replace({'18-24': 0, '25+': 1})\n",
        "df['Cinsiyet'] = df['Cinsiyet'].replace({'Kadin': 0, 'Erkek': 1})\n",
        "df['Memnuniyet'] = df['Memnuniyet'].replace({'Memnun': 1, 'NeMemnunNeMemnunDegil': 0, 'MemnunDegil': -1})\n",
        "\n",
        "# Hedef değişkeni ve bağımsız değişkenleri ayırma\n",
        "X = df[['Yil', 'Yas', 'Cinsiyet', 'Yuzde']]\n",
        "y = df['Memnuniyet']\n",
        "\n",
        "# Verileri eğitim ve test setlerine ayırma\n",
        "X_train, X_test, y_train, y_test = train_test_split(X, y, test_size=0.3, random_state=42)\n",
        "\n",
        "# 3. Lojistik regresyon modelini oluşturma\n",
        "log_reg = LogisticRegression()\n",
        "log_reg.fit(X_train, y_train)\n",
        "\n",
        "# Tahmin yapma\n",
        "y_pred = log_reg.predict(X_test)\n",
        "\n",
        "# 4. Modelin performansını değerlendirme ve görselleştirme\n",
        "print(classification_report(y_test, y_pred))\n",
        "print(confusion_matrix(y_test, y_pred))\n",
        "\n",
        "# Confusion matrix görselleştirme\n",
        "plt.figure(figsize=(10, 7))\n",
        "sns.heatmap(confusion_matrix(y_test, y_pred), annot=True, fmt='d', cmap='Blues')\n",
        "plt.xlabel('Tahmin Edilen')\n",
        "plt.ylabel('Gerçek')\n",
        "plt.show()"
      ],
      "metadata": {
        "colab": {
          "base_uri": "https://localhost:8080/",
          "height": 974
        },
        "id": "MQnn9FPGPKwJ",
        "outputId": "b8090a0c-7e86-4bdd-87ae-b1dd3b65d5b9"
      },
      "execution_count": 1,
      "outputs": [
        {
          "output_type": "stream",
          "name": "stderr",
          "text": [
            "<ipython-input-1-b9a163a8f437>:92: FutureWarning: Downcasting behavior in `replace` is deprecated and will be removed in a future version. To retain the old behavior, explicitly call `result.infer_objects(copy=False)`. To opt-in to the future behavior, set `pd.set_option('future.no_silent_downcasting', True)`\n",
            "  df['Yas'] = df['Yas'].replace({'18-24': 0, '25+': 1})\n",
            "<ipython-input-1-b9a163a8f437>:93: FutureWarning: Downcasting behavior in `replace` is deprecated and will be removed in a future version. To retain the old behavior, explicitly call `result.infer_objects(copy=False)`. To opt-in to the future behavior, set `pd.set_option('future.no_silent_downcasting', True)`\n",
            "  df['Cinsiyet'] = df['Cinsiyet'].replace({'Kadin': 0, 'Erkek': 1})\n",
            "<ipython-input-1-b9a163a8f437>:94: FutureWarning: Downcasting behavior in `replace` is deprecated and will be removed in a future version. To retain the old behavior, explicitly call `result.infer_objects(copy=False)`. To opt-in to the future behavior, set `pd.set_option('future.no_silent_downcasting', True)`\n",
            "  df['Memnuniyet'] = df['Memnuniyet'].replace({'Memnun': 1, 'NeMemnunNeMemnunDegil': 0, 'MemnunDegil': -1})\n"
          ]
        },
        {
          "output_type": "stream",
          "name": "stdout",
          "text": [
            "              precision    recall  f1-score   support\n",
            "\n",
            "          -1       0.75      0.86      0.80         7\n",
            "           0       0.80      0.67      0.73         6\n",
            "           1       1.00      1.00      1.00         9\n",
            "\n",
            "    accuracy                           0.86        22\n",
            "   macro avg       0.85      0.84      0.84        22\n",
            "weighted avg       0.87      0.86      0.86        22\n",
            "\n",
            "[[6 1 0]\n",
            " [2 4 0]\n",
            " [0 0 9]]\n"
          ]
        },
        {
          "output_type": "display_data",
          "data": {
            "text/plain": [
              "<Figure size 1000x700 with 2 Axes>"
            ],
            "image/png": "[encoded data removed]"
          },
          "metadata": {}
        }
      ]
    }
  ]
}